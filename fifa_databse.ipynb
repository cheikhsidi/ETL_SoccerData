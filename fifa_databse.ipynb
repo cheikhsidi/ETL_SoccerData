{
 "cells": [
  {
   "cell_type": "code",
   "execution_count": null,
   "metadata": {},
   "outputs": [],
   "source": [
    "#Importing dependencies\n",
    "import pandas as pd\n",
    "import numpy as np\n",
    "import sqlite3\n",
    "from datetime import date"
   ]
  },
  {
   "cell_type": "code",
   "execution_count": null,
   "metadata": {},
   "outputs": [],
   "source": [
    "# Import SQLAlchemy `automap` and other dependencies here\n",
    "import sqlalchemy\n",
    "from sqlalchemy.ext.automap import automap_base\n",
    "from sqlalchemy.orm import Session\n",
    "from sqlalchemy import create_engine, inspect, func\n",
    "import psycopg2 \n",
    "import io\n",
    "\n",
    "engine = create_engine('sqlite:///database/database.sqlite')\n",
    "inspector = inspect(engine)\n",
    "inspector.get_table_names()"
   ]
  },
  {
   "cell_type": "code",
   "execution_count": null,
   "metadata": {},
   "outputs": [],
   "source": [
    "# Use `engine.execute` to select and display the first 10 rows from the player table\n",
    "engine.execute('SELECT * FROM Player LIMIT 10').fetchall()"
   ]
  },
  {
   "cell_type": "code",
   "execution_count": null,
   "metadata": {},
   "outputs": [],
   "source": [
    "# Reflect Database into ORM classes\n",
    "Base = automap_base()\n",
    "Base.prepare(engine, reflect=True)\n",
    "Player = Base.classes.Player\n",
    "League = Base.classes.League\n",
    "Match = Base.classes.Match\n",
    "Player_Attributes = Base.classes.Player_Attributes\n",
    "Team = Base.classes.Team\n",
    "Country = Base.classes.Country\n",
    "Team_Attributes = Base.classes.Team_Attributes"
   ]
  },
  {
   "cell_type": "code",
   "execution_count": null,
   "metadata": {},
   "outputs": [],
   "source": [
    "# Use Pandas `read_sql_query` to load a query statement directly into the DataFrame\n",
    "# Start a session to query the database\n",
    "session = Session(engine)\n",
    "player = session.query(Player).statement\n",
    "League = session.query(League).statement\n",
    "Match = session.query(Match).statement\n",
    "Player_Stats = session.query(Player_Attributes).statement\n",
    "Country = session.query(Country).statement\n",
    "Team = session.query(Team).statement\n",
    "player_df = pd.read_sql_query(player, session.bind)\n",
    "player_df.head(10)"
   ]
  },
  {
   "cell_type": "code",
   "execution_count": null,
   "metadata": {},
   "outputs": [],
   "source": [
    "session.close()"
   ]
  },
  {
   "cell_type": "code",
   "execution_count": null,
   "metadata": {},
   "outputs": [],
   "source": [
    "match_df = pd.read_sql_query(Match, session.bind)\n",
    "match_df.head()"
   ]
  },
  {
   "cell_type": "code",
   "execution_count": null,
   "metadata": {},
   "outputs": [],
   "source": [
    "player_stats_df = pd.read_sql_query(Player_Stats, session.bind)\n",
    "player_stats_df"
   ]
  },
  {
   "cell_type": "code",
   "execution_count": null,
   "metadata": {
    "scrolled": false
   },
   "outputs": [],
   "source": [
    "#Joining Palyer table with stats\n",
    "df = pd.merge(player_df, player_stats_df, on='player_api_id', how='left', suffixes=('', '_stats')).drop_duplicates(subset='player_api_id')\n",
    "df"
   ]
  },
  {
   "cell_type": "code",
   "execution_count": null,
   "metadata": {},
   "outputs": [],
   "source": [
    "df['age'] = np.nan\n",
    "for i, value in df['date'].items():\n",
    "    df.loc[i,'age'] = (pd.to_datetime(df.loc[i,'date'].split(' ')[0]).year - pd.to_datetime(df.loc[i,'birthday'].split(' ')[0]).year)\n",
    "        \n",
    "df.head()"
   ]
  },
  {
   "cell_type": "code",
   "execution_count": null,
   "metadata": {},
   "outputs": [],
   "source": [
    "group_age = df.groupby('age').mean().round(2).reset_index()\n",
    "group_age "
   ]
  },
  {
   "cell_type": "code",
   "execution_count": null,
   "metadata": {},
   "outputs": [],
   "source": [
    "age_groups = [17, 20,25,30, 35,40, 44]\n",
    "age_labels =['<20','20-25', '26-30','31-35','36-40','>40']\n",
    "group_age['Age_Groups'] = pd.cut(group_age.index, age_groups, labels=age_labels)\n",
    "Age_cat = group_age.groupby('Age_Groups').mean().round(2)\n",
    "Age_cat"
   ]
  },
  {
   "cell_type": "code",
   "execution_count": null,
   "metadata": {},
   "outputs": [],
   "source": [
    "match_df = pd.read_sql_query(Match, session.bind)\n",
    "match_df.head()"
   ]
  },
  {
   "cell_type": "code",
   "execution_count": null,
   "metadata": {},
   "outputs": [],
   "source": [
    "team_df = pd.read_sql_query(Team, session.bind)\n",
    "team_df"
   ]
  },
  {
   "cell_type": "code",
   "execution_count": null,
   "metadata": {},
   "outputs": [],
   "source": [
    "#Joining team table with the match\n",
    "match_team_df = pd.merge(match_df, team_df, left_on='home_team_api_id', right_on = 'team_api_id',how='left', suffixes=('_match', '_team'), validate = 'm:1')\n",
    "match_team_df.rename(columns={'team_long_name':'Home_Team'}, inplace=True)\n",
    "match_team_df = pd.merge(match_team_df, team_df, left_on='away_team_api_id', right_on = 'team_api_id',how='left', suffixes=('_match', '_team'), validate = 'm:1')\n",
    "match_team_df.rename(columns={'team_long_name':'away_Team'}, inplace=True)\n",
    "columns_of_interest = ['id_match','country_id','league_id','season','stage','date','match_api_id','Home_Team','away_Team','home_team_goal',\n",
    "'away_team_goal']\n",
    "match_team_df = match_team_df[columns_of_interest]\n",
    "match_team_df = pd.merge(match_team_df, league_df, left_on='league_id', right_on = 'id',how='left', suffixes=('_match', '_team'), validate = 'm:1')\n",
    "match_team_df.drop(['id','league_id'], axis=1)\n",
    "match_team_df.rename(columns={'name':'League'}, inplace=True)\n",
    "match_team_df = match_team_df[['country_id_match','League','season','stage','date','match_api_id','Home_Team','away_Team','home_team_goal',\n",
    "'away_team_goal']]\n",
    "match_team_df = pd.merge(match_team_df, country_df, left_on='country_id_match', right_on = 'id',how='left', suffixes=('_match', '_team'), validate = 'm:1')\n",
    "match_team_df.rename(columns={'name':'Country'}, inplace=True)\n",
    "match_team_df.drop(['country_id_match', 'match_api_id', 'id', 'stage'], axis=1, inplace=True)\n",
    "match_team_df"
   ]
  },
  {
   "cell_type": "code",
   "execution_count": null,
   "metadata": {},
   "outputs": [],
   "source": [
    "match_team_df"
   ]
  },
  {
   "cell_type": "code",
   "execution_count": null,
   "metadata": {},
   "outputs": [],
   "source": [
    "match_team_df.groupby(['Home_Team','away_Team']).sum()"
   ]
  },
  {
   "cell_type": "code",
   "execution_count": null,
   "metadata": {},
   "outputs": [],
   "source": [
    "league_df = pd.read_sql_query(League, session.bind)\n",
    "league_df"
   ]
  },
  {
   "cell_type": "code",
   "execution_count": null,
   "metadata": {},
   "outputs": [],
   "source": [
    "country_df = pd.read_sql_query(Country, session.bind)\n",
    "country_df"
   ]
  },
  {
   "cell_type": "code",
   "execution_count": null,
   "metadata": {},
   "outputs": [],
   "source": [
    "league_country = pd.merge(league_df, country_df, on ='id', suffixes=('_league', '_country'))\n",
    "league_country"
   ]
  },
  {
   "cell_type": "code",
   "execution_count": null,
   "metadata": {},
   "outputs": [],
   "source": [
    "#Adding two columns, Score, Winner.\n",
    "match_team_df['score_difference'] = match_team_df['home_team_goal'] - match_team_df['away_team_goal']\n",
    "match_team_df['winner'] = np.nan\n",
    "for i, v in match_team_df['score_difference'].items():\n",
    "    if v > 0:\n",
    "        match_team_df.loc[i,'winner'] = match_team_df.loc[i,'Home_Team']\n",
    "    elif v<0:\n",
    "        match_team_df.loc[i,'winner'] = match_team_df.loc[i,'away_Team']\n",
    "    else:\n",
    "        match_team_df.loc[i,'winner'] = 'Null_Match'\n",
    "match_team_df.drop(['score'], axis=1, inplace=True)\n",
    "match_team_df  "
   ]
  },
  {
   "cell_type": "code",
   "execution_count": null,
   "metadata": {},
   "outputs": [],
   "source": [
    "span_league = match_team_df[match_team_df['Country'] == 'Spain']\n",
    "span_league_scores = span_league.groupby(\"winner\").sum().sort_values(\"score_difference\", ascending = False).reset_index()\n",
    "span_league_scores\n",
    "# Barcelona 💪"
   ]
  },
  {
   "cell_type": "code",
   "execution_count": null,
   "metadata": {},
   "outputs": [],
   "source": [
    "engine2 = create_engine('postgresql://postgres:@localhost:5432/fifa_db')"
   ]
  },
  {
   "cell_type": "code",
   "execution_count": null,
   "metadata": {},
   "outputs": [],
   "source": [
    "inspector = inspect(engine2)\n",
    "inspector.get_table_names()"
   ]
  },
  {
   "cell_type": "code",
   "execution_count": null,
   "metadata": {},
   "outputs": [],
   "source": [
    "session = Session(engine2)"
   ]
  },
  {
   "cell_type": "code",
   "execution_count": null,
   "metadata": {},
   "outputs": [],
   "source": [
    "#span_league_scores.to_sql('spain_league', engine2)\n",
    "span_league_scores.to_sql(name='spain_league', con=engine2, if_exists = 'replace', index=False)\n",
    "match_team_df.to_sql(name='match', con=engine2, if_exists = 'replace', index = False)\n",
    "group_age.to_sql(name='Age_group', con=engine2, if_exists = 'replace', index = False)\n",
    "player_df.to_sql(name='Player', con=engine2, if_exists = 'replace', index = False)"
   ]
  },
  {
   "cell_type": "code",
   "execution_count": null,
   "metadata": {},
   "outputs": [],
   "source": [
    "session.close"
   ]
  }
 ],
 "metadata": {
  "kernelspec": {
   "display_name": "Python 3",
   "language": "python",
   "name": "python3"
  },
  "language_info": {
   "codemirror_mode": {
    "name": "ipython",
    "version": 3
   },
   "file_extension": ".py",
   "mimetype": "text/x-python",
   "name": "python",
   "nbconvert_exporter": "python",
   "pygments_lexer": "ipython3",
   "version": "3.7.1"
  }
 },
 "nbformat": 4,
 "nbformat_minor": 2
}
